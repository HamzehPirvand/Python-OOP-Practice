{
 "cells": [
  {
   "cell_type": "code",
   "execution_count": 4,
   "id": "ee7b4192",
   "metadata": {},
   "outputs": [
    {
     "name": "stdout",
     "output_type": "stream",
     "text": [
      "John Doe\n"
     ]
    }
   ],
   "source": [
    "class Person:\n",
    "    def __init__(self, fname, lname):\n",
    "        self.firstname = fname\n",
    "        self.lastname = lname\n",
    "        \n",
    "    def printName(self):\n",
    "        print(self.firstname, self.lastname)\n",
    "        \n",
    "x = Person('John', 'Doe')\n",
    "x.printName()"
   ]
  },
  {
   "cell_type": "code",
   "execution_count": 7,
   "id": "18d6b4e9",
   "metadata": {},
   "outputs": [
    {
     "name": "stdout",
     "output_type": "stream",
     "text": [
      "Mike Olsan\n"
     ]
    }
   ],
   "source": [
    "class Person:\n",
    "    def __init__(self, fname, lname):\n",
    "        self.firstname = fname\n",
    "        self.lastname = lname\n",
    "        \n",
    "    def printName(self):\n",
    "        print(self.firstname, self.lastname)\n",
    "        \n",
    "class Student(Person):\n",
    "    pass\n",
    "\n",
    "x = Student('Mike', 'Olsan')\n",
    "x.printName()"
   ]
  },
  {
   "cell_type": "code",
   "execution_count": 8,
   "id": "7f19dc73",
   "metadata": {},
   "outputs": [
    {
     "name": "stdout",
     "output_type": "stream",
     "text": [
      "Mike Olsan\n"
     ]
    }
   ],
   "source": [
    "class Person:\n",
    "    def __init__(self, fname, lname):\n",
    "        self.firstname = fname\n",
    "        self.lastname = lname\n",
    "        \n",
    "    def printName(self):\n",
    "        print(self.firstname, self.lastname)\n",
    "        \n",
    "class Student(Person):\n",
    "    def __init__(self, fname, lname):\n",
    "        Person.__init__(self, fname, lname)\n",
    "        \n",
    "x = Student('Mike', 'Olsan')\n",
    "x.printName()"
   ]
  },
  {
   "cell_type": "code",
   "execution_count": 9,
   "id": "7a28fb30",
   "metadata": {},
   "outputs": [
    {
     "name": "stdout",
     "output_type": "stream",
     "text": [
      "Joe Olsan\n"
     ]
    }
   ],
   "source": [
    "class Person:\n",
    "    def __init__(self, fname, lname):\n",
    "        self.firstname = fname\n",
    "        self.lastname = lname\n",
    "        \n",
    "    def printName(self):\n",
    "        print(self.firstname, self.lastname)\n",
    "        \n",
    "class Student(Person):\n",
    "    def __init__(self, fname, lname):\n",
    "        super().__init__(fname, lname)\n",
    "        \n",
    "x = Student('Joe', 'Olsan')\n",
    "x.printName()"
   ]
  },
  {
   "cell_type": "code",
   "execution_count": 12,
   "id": "a4a21b53",
   "metadata": {},
   "outputs": [
    {
     "name": "stdout",
     "output_type": "stream",
     "text": [
      "Olsan is look like his father and 180 cm, look like his father\n"
     ]
    }
   ],
   "source": [
    "class Father:\n",
    "    def __init__(self, lname, face, height, personallity):\n",
    "        self.lname = lname\n",
    "        self.face = face\n",
    "        self.height = height\n",
    "        self.personallity = personallity\n",
    "        \n",
    "    def printName(self):\n",
    "        print(self.lname, self.face, self.height, self.personallity)\n",
    "        \n",
    "class Son(Father):\n",
    "    def __init__(self, lname, face, height, personallity):\n",
    "        super().__init__(lname, face, height, personallity)\n",
    "        \n",
    "x = Son('Olsan', 'is look like his father', 'and 180 cm,', 'look like his father')\n",
    "x.printName()"
   ]
  },
  {
   "cell_type": "code",
   "execution_count": 13,
   "id": "0b21de60",
   "metadata": {},
   "outputs": [
    {
     "name": "stdout",
     "output_type": "stream",
     "text": [
      "2022\n"
     ]
    }
   ],
   "source": [
    "class Person:\n",
    "    def __init__(self, fname, lname):\n",
    "        self.firstname = fname\n",
    "        self.lastname = lname\n",
    "        \n",
    "    def printName(self):\n",
    "        print(self.firstname, self.lastname)\n",
    "        \n",
    "class Student(Person):\n",
    "    def __init__(self, fname, lname, year):\n",
    "        super().__init__(fname, lname)\n",
    "        self.graduationyear = year\n",
    "        \n",
    "x = Student('Mike', 'Olsan', '2022')\n",
    "print(x.graduationyear)"
   ]
  },
  {
   "cell_type": "code",
   "execution_count": 14,
   "id": "968f80e6",
   "metadata": {},
   "outputs": [
    {
     "name": "stdout",
     "output_type": "stream",
     "text": [
      "Welcome Sarah Olsan to the class of 2022\n"
     ]
    }
   ],
   "source": [
    "class Person:\n",
    "    def __init__(self, fname, lname):\n",
    "        self.firstname = fname\n",
    "        self.lastname = lname\n",
    "        \n",
    "    def printName(self):\n",
    "        print(self.firstname, self.lastname)\n",
    "        \n",
    "class Student(Person):\n",
    "    def __init__(self, fname, lname, year):\n",
    "        super().__init__(fname, lname)\n",
    "        self.graduationyear = year\n",
    "        \n",
    "    def welcome(self):\n",
    "        print('Welcome', self.firstname, self.lastname, 'to the class of', self.graduationyear)\n",
    "        \n",
    "x = Student('Sarah', 'Olsan', 2022)\n",
    "x.welcome()"
   ]
  }
 ],
 "metadata": {
  "kernelspec": {
   "display_name": "Python 3",
   "language": "python",
   "name": "python3"
  },
  "language_info": {
   "codemirror_mode": {
    "name": "ipython",
    "version": 3
   },
   "file_extension": ".py",
   "mimetype": "text/x-python",
   "name": "python",
   "nbconvert_exporter": "python",
   "pygments_lexer": "ipython3",
   "version": "3.8.8"
  }
 },
 "nbformat": 4,
 "nbformat_minor": 5
}
