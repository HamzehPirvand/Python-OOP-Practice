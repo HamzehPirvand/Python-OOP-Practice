{
 "cells": [
  {
   "cell_type": "code",
   "execution_count": 1,
   "id": "422dba1d",
   "metadata": {},
   "outputs": [],
   "source": [
    "class Employee:\n",
    "    \n",
    "    hourly_wage = 20\n",
    "    count = 0\n",
    "    \n",
    "    def __init__(self, name, surname):\n",
    "        self.name = name\n",
    "        self.surname = surname\n",
    "        self.email = f\"{self.name}.{self.surname}@email.com\"\n",
    "        self.hours = 0\n",
    "        \n",
    "        Employee.count += 1\n",
    "        self.id = f\"{Employee.count:05d}\"\n",
    "        \n",
    "    def fullname(self):\n",
    "        return f\"{self.name} {self.surname}\"\n",
    "    \n",
    "    def add_daily_hours(self, daily_hours):\n",
    "        self.hours += daily_hours\n",
    "        \n",
    "    def salary(self):\n",
    "        return self.hours * self.hourly_wage\n",
    "    \n",
    "    @classmethod\n",
    "    def set_hourly_wage(cls, hourly_wage):\n",
    "        cls.hourly_wage = hourly_wage\n",
    "        \n",
    "    @classmethod\n",
    "    def from_string(cls, name_str):\n",
    "        first_name, last_name = name_str.split('-')\n",
    "        return cls(first_name, last_name)\n",
    "    \n",
    "    @staticmethod\n",
    "    def is_workday(day):\n",
    "        return day.weekday() != 5 and day.weekday != 6"
   ]
  },
  {
   "cell_type": "code",
   "execution_count": 2,
   "id": "6aeee164",
   "metadata": {},
   "outputs": [],
   "source": [
    "#Developer class\n",
    "\n",
    "class Developer(Employee):\n",
    "    pass"
   ]
  },
  {
   "cell_type": "code",
   "execution_count": 4,
   "id": "8fbcf57b",
   "metadata": {},
   "outputs": [
    {
     "data": {
      "text/plain": [
       "{'name': 'Elena',\n",
       " 'surname': 'Cross',\n",
       " 'email': 'Elena.Cross@email.com',\n",
       " 'hours': 0,\n",
       " 'id': '00002'}"
      ]
     },
     "execution_count": 4,
     "metadata": {},
     "output_type": "execute_result"
    }
   ],
   "source": [
    "developer1 = Developer('Elena', 'Cross')\n",
    "\n",
    "developer1.__dict__"
   ]
  },
  {
   "cell_type": "code",
   "execution_count": 5,
   "id": "d8df3d00",
   "metadata": {},
   "outputs": [
    {
     "name": "stdout",
     "output_type": "stream",
     "text": [
      "Help on class Developer in module __main__:\n",
      "\n",
      "class Developer(Employee)\n",
      " |  Developer(name, surname)\n",
      " |  \n",
      " |  Method resolution order:\n",
      " |      Developer\n",
      " |      Employee\n",
      " |      builtins.object\n",
      " |  \n",
      " |  Methods inherited from Employee:\n",
      " |  \n",
      " |  __init__(self, name, surname)\n",
      " |      Initialize self.  See help(type(self)) for accurate signature.\n",
      " |  \n",
      " |  add_daily_hours(self, daily_hours)\n",
      " |  \n",
      " |  fullname(self)\n",
      " |  \n",
      " |  salary(self)\n",
      " |  \n",
      " |  ----------------------------------------------------------------------\n",
      " |  Class methods inherited from Employee:\n",
      " |  \n",
      " |  from_string(name_str) from builtins.type\n",
      " |  \n",
      " |  set_hourly_wage(hourly_wage) from builtins.type\n",
      " |  \n",
      " |  ----------------------------------------------------------------------\n",
      " |  Static methods inherited from Employee:\n",
      " |  \n",
      " |  is_workday(day)\n",
      " |  \n",
      " |  ----------------------------------------------------------------------\n",
      " |  Data descriptors inherited from Employee:\n",
      " |  \n",
      " |  __dict__\n",
      " |      dictionary for instance variables (if defined)\n",
      " |  \n",
      " |  __weakref__\n",
      " |      list of weak references to the object (if defined)\n",
      " |  \n",
      " |  ----------------------------------------------------------------------\n",
      " |  Data and other attributes inherited from Employee:\n",
      " |  \n",
      " |  count = 2\n",
      " |  \n",
      " |  hourly_wage = 20\n",
      "\n"
     ]
    }
   ],
   "source": [
    "# method resolution order\n",
    "\n",
    "help(Developer)"
   ]
  },
  {
   "cell_type": "code",
   "execution_count": 6,
   "id": "ee8974bf",
   "metadata": {},
   "outputs": [],
   "source": [
    "#Customizing the sublass\n",
    "\n",
    "class Developer(Employee):\n",
    "    hourly_wage = 30"
   ]
  },
  {
   "cell_type": "code",
   "execution_count": 7,
   "id": "3c604604",
   "metadata": {},
   "outputs": [
    {
     "data": {
      "text/plain": [
       "240"
      ]
     },
     "execution_count": 7,
     "metadata": {},
     "output_type": "execute_result"
    }
   ],
   "source": [
    "developer1 = Developer('John', 'Smith')\n",
    "developer1.add_daily_hours(8)\n",
    "developer1.salary()"
   ]
  },
  {
   "cell_type": "code",
   "execution_count": 8,
   "id": "ab83eb25",
   "metadata": {},
   "outputs": [],
   "source": [
    "#Adding attributes to the subclass\n",
    "\n",
    "class Developer(Employee):\n",
    "    hourly_wage = 30\n",
    "    \n",
    "    def __init__(self, name, surname, programming_language):\n",
    "        super().__init__(name, surname)  # using super class constructor\n",
    "        self.programming_language = programming_language"
   ]
  },
  {
   "cell_type": "code",
   "execution_count": 9,
   "id": "7b508ca6",
   "metadata": {},
   "outputs": [
    {
     "name": "stdout",
     "output_type": "stream",
     "text": [
      "John.Smith@email.com\n",
      "David.Jhonson@email.com\n"
     ]
    }
   ],
   "source": [
    "# create objects\n",
    "\n",
    "developer1 = Developer('John', 'Smith', 'Python')\n",
    "developer2 = Developer('David', 'Jhonson', 'Java')\n",
    "\n",
    "# use objects\n",
    "print(developer1.email)\n",
    "print(developer2.email)"
   ]
  },
  {
   "cell_type": "code",
   "execution_count": 10,
   "id": "6ec9dad8",
   "metadata": {},
   "outputs": [],
   "source": [
    "#Manager class\n",
    "\n",
    "class Managaer(Employee):\n",
    "    hourly_wage = 50\n",
    "    \n",
    "    def __init__(self, name, surname, employees=None):\n",
    "        super().__init__(name, surname)\n",
    "        \n",
    "        self.employees = [] if employees is None else employees"
   ]
  },
  {
   "cell_type": "code",
   "execution_count": 11,
   "id": "bdf312c9",
   "metadata": {},
   "outputs": [],
   "source": [
    "class Manager(Employee):\n",
    "    hourly_wage = 50\n",
    "    \n",
    "    def __init__(self, name, surname, employees=None):\n",
    "        super().__init__(name, surname)\n",
    "        \n",
    "        \n",
    "        self.employees = [] if employees is None else employees\n",
    "        \n",
    "    def add_employee(self, employee):\n",
    "        if employee not in self.employees:\n",
    "            self.employees.append(employee)\n",
    "            \n",
    "    def remove_employee(self, employee):\n",
    "        if employee in self.employees:\n",
    "            self.employees.remove(employee)\n",
    "            \n",
    "    def print_employees(self):\n",
    "        print(f\"{self.fullname()} manages({', '.join([e.fullname() for e in self.employees])})\")"
   ]
  },
  {
   "cell_type": "code",
   "execution_count": 12,
   "id": "507af289",
   "metadata": {},
   "outputs": [
    {
     "name": "stdout",
     "output_type": "stream",
     "text": [
      "Mat.Anderson@email.com\n",
      "Mat Anderson manages(John Smith, David Jhonson)\n"
     ]
    }
   ],
   "source": [
    "# create object\n",
    "\n",
    "manager1 = Manager('Mat', 'Anderson', [developer1])\n",
    "\n",
    "# use object\n",
    "manager1.add_employee(developer2)\n",
    "\n",
    "print(manager1.email)\n",
    "manager1.print_employees()"
   ]
  },
  {
   "cell_type": "code",
   "execution_count": 13,
   "id": "3b12a842",
   "metadata": {},
   "outputs": [
    {
     "name": "stdout",
     "output_type": "stream",
     "text": [
      "Mat Anderson manages(David Jhonson)\n"
     ]
    }
   ],
   "source": [
    "manager1.remove_employee(developer1)\n",
    "manager1.print_employees()"
   ]
  },
  {
   "cell_type": "code",
   "execution_count": 14,
   "id": "83486d7c",
   "metadata": {},
   "outputs": [
    {
     "name": "stdout",
     "output_type": "stream",
     "text": [
      "True\n",
      "True\n",
      "False\n"
     ]
    }
   ],
   "source": [
    "#isinstance() will tell us wether or not an object is instance of a class.\n",
    "\n",
    "print(isinstance(manager1, Manager))\n",
    "print(isinstance(manager1, Employee))\n",
    "print(isinstance(manager1, Developer))"
   ]
  },
  {
   "cell_type": "code",
   "execution_count": 15,
   "id": "2e71e5b6",
   "metadata": {},
   "outputs": [
    {
     "name": "stdout",
     "output_type": "stream",
     "text": [
      "True\n",
      "False\n"
     ]
    }
   ],
   "source": [
    "#issubclass() will tell us wether or not an object is subclass of another class.\n",
    "\n",
    "print(issubclass(Manager, Employee))\n",
    "print(issubclass(Manager, Developer))"
   ]
  }
 ],
 "metadata": {
  "kernelspec": {
   "display_name": "Python 3",
   "language": "python",
   "name": "python3"
  },
  "language_info": {
   "codemirror_mode": {
    "name": "ipython",
    "version": 3
   },
   "file_extension": ".py",
   "mimetype": "text/x-python",
   "name": "python",
   "nbconvert_exporter": "python",
   "pygments_lexer": "ipython3",
   "version": "3.8.8"
  }
 },
 "nbformat": 4,
 "nbformat_minor": 5
}
