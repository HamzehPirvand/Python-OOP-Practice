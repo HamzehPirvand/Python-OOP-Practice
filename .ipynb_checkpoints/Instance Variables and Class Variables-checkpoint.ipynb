{
 "cells": [
  {
   "cell_type": "code",
   "execution_count": 1,
   "id": "e92f2edd",
   "metadata": {},
   "outputs": [],
   "source": [
    "class Employee:\n",
    "    \n",
    "    hourly_wage = 20  # class variable: a variable which is shared among all instances\n",
    "    \n",
    "    def __init__(self, name, surname):\n",
    "        self.name = name   # instance variable: an attribute which is specific for each object\n",
    "        self.surname = surname\n",
    "        self.email = f\"{self.name}.{self.surname}@email.com\"\n",
    "        self.hours = 0\n",
    "        \n",
    "        \n",
    "    def fullname(self):\n",
    "        return f\"{self.name} {self.surname}\"\n",
    "    \n",
    "    def add_daily_hours(self, daily_hours):\n",
    "        self.hours += daily_hours\n",
    "        \n",
    "    def salary(self):\n",
    "        return self.hours * Employee.hourly_wage"
   ]
  },
  {
   "cell_type": "code",
   "execution_count": 2,
   "id": "ad4759be",
   "metadata": {},
   "outputs": [
    {
     "name": "stdout",
     "output_type": "stream",
     "text": [
      "20\n",
      "20\n"
     ]
    }
   ],
   "source": [
    "# create two instances of Employee class\n",
    "\n",
    "employee1 = Employee('John', 'Smith')\n",
    "employee2 = Employee('David', 'Johnson')\n",
    "\n",
    "# check the value of the class variable (hourly_wage)\n",
    "print(employee1.hourly_wage)\n",
    "print(employee2.hourly_wage)"
   ]
  },
  {
   "cell_type": "code",
   "execution_count": 3,
   "id": "49ab5e10",
   "metadata": {},
   "outputs": [
    {
     "name": "stdout",
     "output_type": "stream",
     "text": [
      "20\n"
     ]
    }
   ],
   "source": [
    "print(Employee.hourly_wage)"
   ]
  },
  {
   "cell_type": "code",
   "execution_count": 4,
   "id": "779ef900",
   "metadata": {},
   "outputs": [
    {
     "name": "stdout",
     "output_type": "stream",
     "text": [
      "John Smith 420\n",
      "David Johnson 360\n"
     ]
    }
   ],
   "source": [
    "# create objects\n",
    "employee1 = Employee('John', 'Smith')\n",
    "employee2 = Employee('David', 'Johnson')\n",
    "\n",
    "\n",
    "# use objects\n",
    "employee1.add_daily_hours(8)\n",
    "employee1.add_daily_hours(5)\n",
    "employee1.add_daily_hours(8)\n",
    "\n",
    "\n",
    "employee2.add_daily_hours(10)\n",
    "employee2.add_daily_hours(8)\n",
    "employee2.add_daily_hours(0)\n",
    "\n",
    "print(employee1.fullname(), employee1.salary())\n",
    "print(employee2.fullname(), employee2.salary())"
   ]
  },
  {
   "cell_type": "code",
   "execution_count": 5,
   "id": "ea0ed94a",
   "metadata": {},
   "outputs": [],
   "source": [
    "class Employee:\n",
    "    \n",
    "    hourly_wage = 20\n",
    "    \n",
    "    def __init__(self, name, surname):\n",
    "        self.name = name\n",
    "        self.surname = surname\n",
    "        self.email = f\"{self.name}.{self.surname}@email.com\"\n",
    "        self.hours = 0\n",
    "        \n",
    "        \n",
    "    def fullname(self):\n",
    "        return f\"{self.name} {self.surname}\"\n",
    "    \n",
    "    def add_daily_hours(self, daily_hours):\n",
    "        self.hours += daily_hours\n",
    "        \n",
    "    def salary(self):\n",
    "        return self.hours * self.hourly_wage  # using self instead of class name"
   ]
  },
  {
   "cell_type": "code",
   "execution_count": 6,
   "id": "0bb408b2",
   "metadata": {},
   "outputs": [
    {
     "name": "stdout",
     "output_type": "stream",
     "text": [
      "John Smith 420\n",
      "David Johnson 360\n"
     ]
    }
   ],
   "source": [
    "# create objects\n",
    "employee1 = Employee(\"John\", \"Smith\")\n",
    "employee2 = Employee(\"David\", \"Johnson\")\n",
    "\n",
    "# use objects\n",
    "employee1.add_daily_hours(8)\n",
    "employee1.add_daily_hours(5)\n",
    "employee1.add_daily_hours(8)\n",
    "\n",
    "employee2.add_daily_hours(10)\n",
    "employee2.add_daily_hours(8)\n",
    "employee2.add_daily_hours(0)\n",
    "\n",
    "print(employee1.fullname(),  employee1.salary())\n",
    "print(employee2.fullname(),  employee2.salary())"
   ]
  },
  {
   "cell_type": "code",
   "execution_count": 7,
   "id": "c046238a",
   "metadata": {},
   "outputs": [
    {
     "name": "stdout",
     "output_type": "stream",
     "text": [
      "20\n",
      "30\n",
      "20\n"
     ]
    }
   ],
   "source": [
    "employee1.hourly_wage = 30\n",
    "\n",
    "print(Employee.hourly_wage)\n",
    "print(employee1.hourly_wage)\n",
    "print(employee2.hourly_wage)"
   ]
  },
  {
   "cell_type": "code",
   "execution_count": 8,
   "id": "33ca5293",
   "metadata": {},
   "outputs": [
    {
     "name": "stdout",
     "output_type": "stream",
     "text": [
      "{'name': 'John', 'surname': 'Smith', 'email': 'John.Smith@email.com', 'hours': 21, 'hourly_wage': 30}\n"
     ]
    }
   ],
   "source": [
    "print(employee1.__dict__)"
   ]
  },
  {
   "cell_type": "code",
   "execution_count": 9,
   "id": "4c63b8e9",
   "metadata": {},
   "outputs": [
    {
     "name": "stdout",
     "output_type": "stream",
     "text": [
      "{'name': 'David', 'surname': 'Johnson', 'email': 'David.Johnson@email.com', 'hours': 18}\n"
     ]
    }
   ],
   "source": [
    "print(employee2.__dict__)"
   ]
  },
  {
   "cell_type": "code",
   "execution_count": 10,
   "id": "1d070d20",
   "metadata": {},
   "outputs": [
    {
     "name": "stdout",
     "output_type": "stream",
     "text": [
      "{'__module__': '__main__', 'hourly_wage': 20, '__init__': <function Employee.__init__ at 0x000002034E63A0D0>, 'fullname': <function Employee.fullname at 0x000002034E63A940>, 'add_daily_hours': <function Employee.add_daily_hours at 0x000002034E63AC10>, 'salary': <function Employee.salary at 0x000002034E63AB80>, '__dict__': <attribute '__dict__' of 'Employee' objects>, '__weakref__': <attribute '__weakref__' of 'Employee' objects>, '__doc__': None}\n"
     ]
    }
   ],
   "source": [
    "print(Employee.__dict__)"
   ]
  },
  {
   "cell_type": "code",
   "execution_count": 11,
   "id": "da22c8f8",
   "metadata": {},
   "outputs": [],
   "source": [
    "class Employee:\n",
    "    \n",
    "    hourly_wage = 20\n",
    "    count = 0  # this class variable is used to keep track of total number of employess\n",
    "    \n",
    "    def __init__(self, name, surname):\n",
    "        self.name = name\n",
    "        self.surname = surname\n",
    "        self.email = f\"{self.name}.{self.surname}@email.com\"\n",
    "        self.hours = 0\n",
    "        \n",
    "        \n",
    "        Employee.count += 1                   # notice the use of class name here instead of self\n",
    "        self.id = f\"{Employee.count:05d}\"     # an instance variable with a specific value for each instance\n",
    "        \n",
    "        \n",
    "        def fullname(self):\n",
    "            return f\"{self.name} {self.surname}\"\n",
    "        \n",
    "        def add_daily_hours(self, daily_hours):\n",
    "            self.hours += daily_hours\n",
    "            \n",
    "        def salary(self):\n",
    "            return self.hours * self.hourly_wage"
   ]
  },
  {
   "cell_type": "code",
   "execution_count": 12,
   "id": "dcca437c",
   "metadata": {},
   "outputs": [
    {
     "name": "stdout",
     "output_type": "stream",
     "text": [
      "00001\n",
      "00002\n",
      "00003\n"
     ]
    }
   ],
   "source": [
    "employee1 = Employee('John', 'Smith')\n",
    "employee2 = Employee('David', 'Johnson')\n",
    "employee3 = Employee('Mark', 'Kenny')\n",
    "\n",
    "print(employee1.id)\n",
    "print(employee2.id)\n",
    "print(employee3.id)"
   ]
  }
 ],
 "metadata": {
  "kernelspec": {
   "display_name": "Python 3",
   "language": "python",
   "name": "python3"
  },
  "language_info": {
   "codemirror_mode": {
    "name": "ipython",
    "version": 3
   },
   "file_extension": ".py",
   "mimetype": "text/x-python",
   "name": "python",
   "nbconvert_exporter": "python",
   "pygments_lexer": "ipython3",
   "version": "3.8.8"
  }
 },
 "nbformat": 4,
 "nbformat_minor": 5
}
